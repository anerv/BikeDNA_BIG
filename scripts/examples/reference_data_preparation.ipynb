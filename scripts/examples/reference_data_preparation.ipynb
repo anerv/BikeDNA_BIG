{
 "cells": [
  {
   "attachments": {},
   "cell_type": "markdown",
   "metadata": {},
   "source": [
    "<img src=\"../../images/BikeDNA_logo.svg\" width=\"250\"  alt=\"BikeDNA logo\" style=\"display:block; margin-left: auto; margin-right: auto;\">\n",
    "<a href=\"https://github.com/anerv/BikeDNA\">Github</a>"
   ]
  },
  {
   "attachments": {},
   "cell_type": "markdown",
   "metadata": {},
   "source": [
    "# Example reference data preprocessing: GeoDanmark\n",
    "\n",
    "This notebook provides an example of how a spatial dataset with data on cycling infrastructure can be converted to the format required by BikeDNA. When using your own data, The preprocessing must be adapted to content and format.\n",
    "\n",
    "The data used in this notebook are from *GeoDanmark* and were downloaded from [dataforsyningen.dk](https://dataforsyningen.dk/) under the [GeoDanmark license](https://www.geodanmark.dk/wp-content/uploads/2022/08/Vilkaar-for-brug-af-frie-geografiske-data_GeoDanmark-grunddata-august-2022.pdf).\n",
    "\n",
    "As stated in the data set requirements, the reference data should:\n",
    "\n",
    "- only contain **cycling infrastructure** (i.e. not also the regular street network)\n",
    "- have all geometries as **LineStrings** (not MultiLineString)\n",
    "- for each row, the geometry should be a **straight** LineString only defined by its start- and end nodes\n",
    "- have start/end nodes at **intersections**\n",
    "- be in a **CRS** recognised by GeoPandas\n",
    "- contain a column describing whether each feature is a physically **protected**/separated infrastructure or if it is **unprotected**\n",
    "- contain a column describing whether each feture is **bidirectional** or not\n",
    "- contain a column describing how features have been **digitized** ('geometry type')\n",
    "- contain a column with a unique **ID** for each feature"
   ]
  },
  {
   "cell_type": "code",
   "execution_count": null,
   "metadata": {},
   "outputs": [],
   "source": [
    "import contextily as cx\n",
    "import folium\n",
    "import os\n",
    "os.environ['USE_PYGEOS'] = '0'\n",
    "import geopandas as gpd\n",
    "import matplotlib.pyplot as plt\n",
    "import momepy\n",
    "from shapely.ops import linemerge\n",
    "\n",
    "from src import graph_functions as gf\n",
    "from src import plotting_functions as pf\n",
    "\n",
    "%run ../settings/tiledict.py\n"
   ]
  },
  {
   "cell_type": "code",
   "execution_count": null,
   "metadata": {},
   "outputs": [],
   "source": [
    "geodk = gpd.read_parquet(\"../../data/REFERENCE/dk/raw/geodk_bike.parquet\")\n",
    "geodk.sample(10)"
   ]
  },
  {
   "attachments": {},
   "cell_type": "markdown",
   "metadata": {},
   "source": [
    "Our dataset contains the entire road network, including bicycle tracks and lanes. We are only interested in the dedicated cycling infrastructure and thus need to select a subset of the data.\n",
    "We also only want to include infrastructure that is completed or under construction.\n",
    "\n",
    "Some of the data might be outside of the study area we are interested in, but the data processing in notebook 01 will clip all data to the desired extent."
   ]
  },
  {
   "cell_type": "code",
   "execution_count": null,
   "metadata": {},
   "outputs": [],
   "source": [
    "# Creating subset only with existing cycling infrastructure\n",
    "\n",
    "geodk_selection = geodk.loc[\n",
    "    (geodk.vejkategori.isin([\"Cykelsti langs vej\", \"Cykelbane langs vej\"]))\n",
    "    & (geodk.status.isin([\"Anlagt\", \"Under anlæg\"]))\n",
    "].copy()"
   ]
  },
  {
   "cell_type": "code",
   "execution_count": null,
   "metadata": {},
   "outputs": [],
   "source": [
    "geodk_selection.explore()"
   ]
  },
  {
   "attachments": {},
   "cell_type": "markdown",
   "metadata": {},
   "source": [
    "For all code to run without errors, our dataset can only contain LineString geometries. Let's check what we have:"
   ]
  },
  {
   "cell_type": "code",
   "execution_count": null,
   "metadata": {},
   "outputs": [],
   "source": [
    "geodk_selection.geom_type.unique()"
   ]
  },
  {
   "attachments": {},
   "cell_type": "markdown",
   "metadata": {},
   "source": [
    "In this dataset, we only have MultiLineStrings. To fix this, we first try to merge the MultiLineStrings. \n",
    "If some of the MultiLinestrings are not connected (i.e. there are gaps in the lines), the aboves step will not be able to merge them. In that case we can instead 'explode' them."
   ]
  },
  {
   "cell_type": "code",
   "execution_count": null,
   "metadata": {},
   "outputs": [],
   "source": [
    "geodk_linestrings = geodk_selection.copy()\n",
    "# Convert MultiLineStrings to LineString\n",
    "geodk_linestrings[\"geometry\"] = geodk_linestrings[\"geometry\"].apply(\n",
    "    lambda x: linemerge(x) if x.geom_type == \"MultiLineString\" else x\n",
    ")\n",
    "\n",
    "if (\n",
    "    len(geodk_linestrings.geom_type.unique()) > 1\n",
    "    or geodk_linestrings.geom_type.unique()[0] != \"LineString\"\n",
    "):\n",
    "\n",
    "    print(\"Exploding MultiLineStrings...\")\n",
    "    geodk_linestrings = geodk_selection.explode(ignore_index=True)\n",
    "\n",
    "assert len(geodk_linestrings.geom_type.unique()) == 1\n",
    "assert geodk_linestrings.geom_type.unique()[0] == \"LineString\"\n",
    "geodk_linestrings.geom_type.unique()"
   ]
  },
  {
   "attachments": {},
   "cell_type": "markdown",
   "metadata": {},
   "source": [
    "For the code to work, the data need to be in a CRS recognized by GeoPandas, and to have that CRS defined. Let's check that we have a CRS defined:"
   ]
  },
  {
   "cell_type": "code",
   "execution_count": null,
   "metadata": {},
   "outputs": [],
   "source": [
    "geodk_linestrings.crs"
   ]
  },
  {
   "attachments": {},
   "cell_type": "markdown",
   "metadata": {},
   "source": [
    "The analysis of data quality is based on the concept of a *network*. For the results to be accurate we need a dataset with nodes at intersections (i.e. where the lines defining the cycling infrastructure intersect).\n",
    "\n",
    "Use the folium plot below to check that you do have nodes at intersections.\n",
    "If not, this will have to be fixed - or it will be an aspect of low data quality that will become apparent in the analysis of data quality...\n",
    "\n",
    "Don't worry if there are more nodes than just those at intersections and start/end points - we will take care of that in the data loading notebook."
   ]
  },
  {
   "cell_type": "code",
   "execution_count": null,
   "metadata": {},
   "outputs": [],
   "source": [
    "G = momepy.gdf_to_nx(\n",
    "    geodk_linestrings.to_crs(\"EPSG:25832\"), approach=\"primal\", directed=True\n",
    ")  # We reproject the network data to avoid warnings - final reprojection will happen later\n",
    "\n",
    "nodes, edges = momepy.nx_to_gdf(G)"
   ]
  },
  {
   "cell_type": "code",
   "execution_count": null,
   "metadata": {},
   "outputs": [],
   "source": [
    "# Feature groups \n",
    "edges_folium = pf.make_edgefeaturegroup(\n",
    "    gdf=edges, mycolor=\"black\", myweight=2, nametag=\"edges\", show_edges=True\n",
    ")\n",
    "\n",
    "nodes_folim = pf.make_nodefeaturegroup(\n",
    "    gdf=nodes, mycolor=\"red\", mysize=2, nametag=\"nodes\", show_nodes=True\n",
    ")\n",
    "\n",
    "feature_groups = [edges_folium, nodes_folim]\n",
    "\n",
    "m = pf.make_foliumplot(\n",
    "    feature_groups=feature_groups,\n",
    "    layers_dict=folium_layers,\n",
    "    center_gdf=nodes,\n",
    "    center_crs=nodes.crs,\n",
    ")\n",
    "\n",
    "display(m)"
   ]
  },
  {
   "attachments": {},
   "cell_type": "markdown",
   "metadata": {},
   "source": [
    "We don't technically need to drop any unnecessary columns, but let's avoid loading unnecessary data later on."
   ]
  },
  {
   "cell_type": "code",
   "execution_count": null,
   "metadata": {},
   "outputs": [],
   "source": [
    "geodk_linestrings.columns"
   ]
  },
  {
   "cell_type": "code",
   "execution_count": null,
   "metadata": {},
   "outputs": [],
   "source": [
    "# Drop unnecessary columns\n",
    "\n",
    "geodk_linestrings = geodk_linestrings[[\"id_lokalid\", \"vejkategori\", \"geometry\"]]"
   ]
  },
  {
   "attachments": {},
   "cell_type": "markdown",
   "metadata": {},
   "source": [
    "For consistency, we rename all column names to lower case letters:"
   ]
  },
  {
   "cell_type": "code",
   "execution_count": null,
   "metadata": {},
   "outputs": [],
   "source": [
    "geodk_linestrings = gf.clean_col_names(geodk_linestrings)"
   ]
  },
  {
   "attachments": {},
   "cell_type": "markdown",
   "metadata": {},
   "source": [
    "For this dataset we assume of all features to be 'true' geometry mappings and one directional, so we can specify this in config file and do not have to add it to the data.\n",
    "\n",
    "The rest of the pre-processing, such as projecting to the chosen CRS, clipping the data to the study area etc. will happen in [notebook 2a](../REFERENCE/2a_initialize_reference.ipynb)."
   ]
  },
  {
   "attachments": {},
   "cell_type": "markdown",
   "metadata": {},
   "source": [
    "**Final dataset**"
   ]
  },
  {
   "cell_type": "code",
   "execution_count": null,
   "metadata": {},
   "outputs": [],
   "source": [
    "geodk_linestrings.sample(10)"
   ]
  },
  {
   "attachments": {},
   "cell_type": "markdown",
   "metadata": {},
   "source": [
    "**Export dataset**"
   ]
  },
  {
   "cell_type": "code",
   "execution_count": null,
   "metadata": {},
   "outputs": [],
   "source": [
    "geodk_linestrings.to_parquet(\n",
    "    \"../../data/reference/dk/processed/reference_data.parquet\"\n",
    ")\n",
    "\n"
   ]
  },
  {
   "attachments": {},
   "cell_type": "markdown",
   "metadata": {},
   "source": [
    "*Contains data from GeoDanmark (retrieved spring 2023)*\n",
    "*© SDFE (Styrelsen for Dataforsyning og Effektivisering og Danske kommuner)*\n",
    "\n",
    "*License: [GeoDanmark](https://www.geodanmark.dk/wp-content/uploads/2022/08/Vilkaar-for-brug-af-frie-geografiske-data_GeoDanmark-grunddata-august-2022.pdf)*"
   ]
  }
 ],
 "metadata": {
  "kernelspec": {
   "display_name": "bikedna",
   "language": "python",
   "name": "python3"
  },
  "language_info": {
   "codemirror_mode": {
    "name": "ipython",
    "version": 3
   },
   "file_extension": ".py",
   "mimetype": "text/x-python",
   "name": "python",
   "nbconvert_exporter": "python",
   "pygments_lexer": "ipython3",
   "version": "3.10.9"
  },
  "vscode": {
   "interpreter": {
    "hash": "25d89d047ff73a4f08e1f58df0505313a978ba3f16552d4fb4e98a48d36b765b"
   }
  }
 },
 "nbformat": 4,
 "nbformat_minor": 4
}
