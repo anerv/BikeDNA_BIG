{
 "cells": [
  {
   "attachments": {},
   "cell_type": "markdown",
   "metadata": {},
   "source": [
    "<img src=\"../../images/BikeDNA_logo.svg\" width=\"250\"  alt=\"BikeDNA logo\" style=\"display:block; margin-left: auto; margin-right: auto;\">\n",
    "<a href=\"https://github.com/anerv/BikeDNA\">Github</a>"
   ]
  },
  {
   "cell_type": "markdown",
   "metadata": {},
   "source": [
    "# Example reference data preprocessing: GeoDanmark\n",
    "\n",
    "This notebook provides an example of how a spatial dataset with data on cycling infrastructure can be converted to the format required by BikeDNA. When using your own data, The preprocessing must be adapted to content and format.\n",
    "\n",
    "The data used in this notebook are from *GeoDanmark* and were downloaded from [dataforsyningen.dk](https://dataforsyningen.dk/) under the [GeoDanmark license](https://www.geodanmark.dk/wp-content/uploads/2022/08/Vilkaar-for-brug-af-frie-geografiske-data_GeoDanmark-grunddata-august-2022.pdf).\n",
    "\n",
    "As stated in the data set requirements, the reference data should:\n",
    "\n",
    "- only contain **cycling infrastructure** (i.e. not also the regular street network)\n",
    "- have all geometries as **LineStrings** (not MultiLineString)\n",
    "- for each row, the geometry should be a **straight** LineString only defined by its start- and end nodes\n",
    "- have start/end nodes at **intersections**\n",
    "- be in a **CRS** recognised by GeoPandas\n",
    "- contain a column describing whether each feature is a physically **protected**/separated infrastructure or if it is **unprotected**\n",
    "- contain a column describing whether each feture is **bidirectional** or not\n",
    "- contain a column describing how features have been **digitized** ('geometry type')\n",
    "- contain a column with a unique **ID** for each feature"
   ]
  },
  {
   "cell_type": "code",
   "execution_count": 1,
   "metadata": {},
   "outputs": [
    {
     "name": "stderr",
     "output_type": "stream",
     "text": [
      "/opt/miniconda3/envs/bikedna_denmark/lib/python3.10/site-packages/tqdm/auto.py:22: TqdmWarning: IProgress not found. Please update jupyter and ipywidgets. See https://ipywidgets.readthedocs.io/en/stable/user_install.html\n",
      "  from .autonotebook import tqdm as notebook_tqdm\n"
     ]
    }
   ],
   "source": [
    "import contextily as cx\n",
    "import folium\n",
    "import os\n",
    "os.environ['USE_PYGEOS'] = '0'\n",
    "import geopandas as gpd\n",
    "import matplotlib.pyplot as plt\n",
    "import momepy\n",
    "from shapely.ops import linemerge\n",
    "\n",
    "from src import graph_functions as gf\n",
    "from src import plotting_functions as pf\n",
    "\n",
    "%run ../settings/tiledict.py\n"
   ]
  },
  {
   "cell_type": "code",
   "execution_count": 2,
   "metadata": {},
   "outputs": [
    {
     "data": {
      "text/html": [
       "<div>\n",
       "<style scoped>\n",
       "    .dataframe tbody tr th:only-of-type {\n",
       "        vertical-align: middle;\n",
       "    }\n",
       "\n",
       "    .dataframe tbody tr th {\n",
       "        vertical-align: top;\n",
       "    }\n",
       "\n",
       "    .dataframe thead th {\n",
       "        text-align: right;\n",
       "    }\n",
       "</style>\n",
       "<table border=\"1\" class=\"dataframe\">\n",
       "  <thead>\n",
       "    <tr style=\"text-align: right;\">\n",
       "      <th></th>\n",
       "      <th>gml_id</th>\n",
       "      <th>objectid</th>\n",
       "      <th>id_lokalid</th>\n",
       "      <th>id_namespace</th>\n",
       "      <th>tempid</th>\n",
       "      <th>geometristatus</th>\n",
       "      <th>virkningfra</th>\n",
       "      <th>virkningtil</th>\n",
       "      <th>virkningsaktoer</th>\n",
       "      <th>registreringfra</th>\n",
       "      <th>...</th>\n",
       "      <th>kommunekode</th>\n",
       "      <th>vejkode</th>\n",
       "      <th>vejkategori</th>\n",
       "      <th>trafikart</th>\n",
       "      <th>niveau</th>\n",
       "      <th>overflade</th>\n",
       "      <th>tilogfrakoersel</th>\n",
       "      <th>rundkoersel</th>\n",
       "      <th>gmlid</th>\n",
       "      <th>geometry</th>\n",
       "    </tr>\n",
       "  </thead>\n",
       "  <tbody>\n",
       "    <tr>\n",
       "      <th>187717</th>\n",
       "      <td>id2eb8c8f9-fadf-4f7e-be56-69f3185d1064</td>\n",
       "      <td>108734517320151125151450</td>\n",
       "      <td>1087345173</td>\n",
       "      <td>http://data.gov.dk/geodanmark</td>\n",
       "      <td>None</td>\n",
       "      <td>Endelig</td>\n",
       "      <td>20151125151450</td>\n",
       "      <td>None</td>\n",
       "      <td>KMS</td>\n",
       "      <td>20151125151450</td>\n",
       "      <td>...</td>\n",
       "      <td>0101</td>\n",
       "      <td>5988</td>\n",
       "      <td>Cykelsti langs vej</td>\n",
       "      <td>Cykelsti</td>\n",
       "      <td>None</td>\n",
       "      <td>Befæstet</td>\n",
       "      <td>False</td>\n",
       "      <td>False</td>\n",
       "      <td>gdk60.1087345173</td>\n",
       "      <td>MULTILINESTRING Z ((723345.760 6179713.190 8.9...</td>\n",
       "    </tr>\n",
       "    <tr>\n",
       "      <th>2150349</th>\n",
       "      <td>idb250160c-f174-4310-8109-56ead3e86450</td>\n",
       "      <td>108736828720220513205218715</td>\n",
       "      <td>1087368287</td>\n",
       "      <td>http://data.gov.dk/geodanmark</td>\n",
       "      <td>None</td>\n",
       "      <td>Endelig</td>\n",
       "      <td>20190409172557</td>\n",
       "      <td>None</td>\n",
       "      <td>COWI</td>\n",
       "      <td>20220513205218.715</td>\n",
       "      <td>...</td>\n",
       "      <td>0101</td>\n",
       "      <td>3332</td>\n",
       "      <td>Cykelsti langs vej</td>\n",
       "      <td>Cykelsti</td>\n",
       "      <td>None</td>\n",
       "      <td>Befæstet</td>\n",
       "      <td>False</td>\n",
       "      <td>False</td>\n",
       "      <td>gdk60.1087368287</td>\n",
       "      <td>MULTILINESTRING Z ((724638.990 6179454.420 9.8...</td>\n",
       "    </tr>\n",
       "    <tr>\n",
       "      <th>1377868</th>\n",
       "      <td>idbb8161be-3c5c-4242-85bb-9d35511126c1</td>\n",
       "      <td>110924222720170817090011</td>\n",
       "      <td>1109242227</td>\n",
       "      <td>http://data.gov.dk/geodanmark</td>\n",
       "      <td>None</td>\n",
       "      <td>Endelig</td>\n",
       "      <td>20170817090011</td>\n",
       "      <td>None</td>\n",
       "      <td>COWI</td>\n",
       "      <td>20170817090011</td>\n",
       "      <td>...</td>\n",
       "      <td>0330</td>\n",
       "      <td>0123</td>\n",
       "      <td>Cykelbane langs vej</td>\n",
       "      <td>Cykelsti</td>\n",
       "      <td>None</td>\n",
       "      <td>Befæstet</td>\n",
       "      <td>False</td>\n",
       "      <td>False</td>\n",
       "      <td>gdk60.1109242227</td>\n",
       "      <td>MULTILINESTRING Z ((641394.550 6143698.990 8.7...</td>\n",
       "    </tr>\n",
       "    <tr>\n",
       "      <th>1017416</th>\n",
       "      <td>id79ef2c7e-b9b1-4a7b-9c1d-0c52000c0093</td>\n",
       "      <td>111115917020171016090432</td>\n",
       "      <td>1111159170</td>\n",
       "      <td>http://data.gov.dk/geodanmark</td>\n",
       "      <td>None</td>\n",
       "      <td>Endelig</td>\n",
       "      <td>20171016090432</td>\n",
       "      <td>None</td>\n",
       "      <td>COWI</td>\n",
       "      <td>20171016090432</td>\n",
       "      <td>...</td>\n",
       "      <td>0265</td>\n",
       "      <td>4816</td>\n",
       "      <td>Cykelbane langs vej</td>\n",
       "      <td>Cykelsti</td>\n",
       "      <td>None</td>\n",
       "      <td>Befæstet</td>\n",
       "      <td>False</td>\n",
       "      <td>False</td>\n",
       "      <td>gdk60.1111159170</td>\n",
       "      <td>MULTILINESTRING Z ((690805.660 6168958.840 44....</td>\n",
       "    </tr>\n",
       "    <tr>\n",
       "      <th>1390652</th>\n",
       "      <td>id20590f0f-ceff-43c1-94b0-f7591eb62365</td>\n",
       "      <td>108315837920151103102119</td>\n",
       "      <td>1083158379</td>\n",
       "      <td>http://data.gov.dk/geodanmark</td>\n",
       "      <td>None</td>\n",
       "      <td>Endelig</td>\n",
       "      <td>20151103102119</td>\n",
       "      <td>None</td>\n",
       "      <td>GST</td>\n",
       "      <td>20151103102119</td>\n",
       "      <td>...</td>\n",
       "      <td>0791</td>\n",
       "      <td>1208</td>\n",
       "      <td>Cykelsti langs vej</td>\n",
       "      <td>Cykelsti</td>\n",
       "      <td>None</td>\n",
       "      <td>Befæstet</td>\n",
       "      <td>False</td>\n",
       "      <td>False</td>\n",
       "      <td>gdk60.1083158379</td>\n",
       "      <td>MULTILINESTRING Z ((546799.330 6262042.980 53....</td>\n",
       "    </tr>\n",
       "    <tr>\n",
       "      <th>183504</th>\n",
       "      <td>id04850ef7-0540-49c8-94e6-0e9fe7bcac34</td>\n",
       "      <td>111053975520170920133641</td>\n",
       "      <td>1110539755</td>\n",
       "      <td>http://data.gov.dk/geodanmark</td>\n",
       "      <td>None</td>\n",
       "      <td>Endelig</td>\n",
       "      <td>20170920133641</td>\n",
       "      <td>None</td>\n",
       "      <td>COWI</td>\n",
       "      <td>20170920133641</td>\n",
       "      <td>...</td>\n",
       "      <td>0253</td>\n",
       "      <td>3036</td>\n",
       "      <td>Cykelbane langs vej</td>\n",
       "      <td>Cykelsti</td>\n",
       "      <td>None</td>\n",
       "      <td>Befæstet</td>\n",
       "      <td>False</td>\n",
       "      <td>False</td>\n",
       "      <td>gdk60.1110539755</td>\n",
       "      <td>MULTILINESTRING Z ((703089.980 6163049.020 19....</td>\n",
       "    </tr>\n",
       "    <tr>\n",
       "      <th>821277</th>\n",
       "      <td>iddc9a640a-3669-422a-84b0-f59661134a92</td>\n",
       "      <td>110777382120170425142642</td>\n",
       "      <td>1107773821</td>\n",
       "      <td>http://data.gov.dk/geodanmark</td>\n",
       "      <td>None</td>\n",
       "      <td>Endelig</td>\n",
       "      <td>20170425142642</td>\n",
       "      <td>None</td>\n",
       "      <td>COWI</td>\n",
       "      <td>20170425142642</td>\n",
       "      <td>...</td>\n",
       "      <td>0751</td>\n",
       "      <td>None</td>\n",
       "      <td>Cykelsti langs vej</td>\n",
       "      <td>Cykelsti</td>\n",
       "      <td>None</td>\n",
       "      <td>Befæstet</td>\n",
       "      <td>False</td>\n",
       "      <td>False</td>\n",
       "      <td>gdk60.1107773821</td>\n",
       "      <td>MULTILINESTRING Z ((573372.720 6227836.000 69....</td>\n",
       "    </tr>\n",
       "    <tr>\n",
       "      <th>1561582</th>\n",
       "      <td>id3ca3ab41-08be-47a6-9378-00c5f2fe43aa</td>\n",
       "      <td>110135283220161018125513</td>\n",
       "      <td>1101352832</td>\n",
       "      <td>http://data.gov.dk/geodanmark</td>\n",
       "      <td>None</td>\n",
       "      <td>Endelig</td>\n",
       "      <td>20161018125513</td>\n",
       "      <td>None</td>\n",
       "      <td>Cowi</td>\n",
       "      <td>20161018125513</td>\n",
       "      <td>...</td>\n",
       "      <td>0787</td>\n",
       "      <td>9029</td>\n",
       "      <td>Cykelsti langs vej</td>\n",
       "      <td>Cykelsti</td>\n",
       "      <td>None</td>\n",
       "      <td>Befæstet</td>\n",
       "      <td>False</td>\n",
       "      <td>False</td>\n",
       "      <td>gdk60.1101352832</td>\n",
       "      <td>MULTILINESTRING Z ((461514.080 6312587.510 7.6...</td>\n",
       "    </tr>\n",
       "    <tr>\n",
       "      <th>1818093</th>\n",
       "      <td>id8598fdb9-a7c6-4e6c-adbc-f9becc2555e3</td>\n",
       "      <td>110514861620170130143012</td>\n",
       "      <td>1105148616</td>\n",
       "      <td>http://data.gov.dk/geodanmark</td>\n",
       "      <td>None</td>\n",
       "      <td>Endelig</td>\n",
       "      <td>20170130143012</td>\n",
       "      <td>None</td>\n",
       "      <td>Cowi</td>\n",
       "      <td>20170130143012</td>\n",
       "      <td>...</td>\n",
       "      <td>0851</td>\n",
       "      <td>6985</td>\n",
       "      <td>Cykelsti langs vej</td>\n",
       "      <td>Cykelsti</td>\n",
       "      <td>None</td>\n",
       "      <td>Befæstet</td>\n",
       "      <td>False</td>\n",
       "      <td>False</td>\n",
       "      <td>gdk60.1105148616</td>\n",
       "      <td>MULTILINESTRING Z ((558628.860 6324145.240 3.9...</td>\n",
       "    </tr>\n",
       "    <tr>\n",
       "      <th>156264</th>\n",
       "      <td>id8e3d1e14-41c7-4f51-98d9-cfc252f7ebe5</td>\n",
       "      <td>107643732420150715005401</td>\n",
       "      <td>1076437324</td>\n",
       "      <td>http://data.gov.dk/geodanmark</td>\n",
       "      <td>None</td>\n",
       "      <td>Endelig</td>\n",
       "      <td>20150715005401</td>\n",
       "      <td>None</td>\n",
       "      <td>GST</td>\n",
       "      <td>20150715005401</td>\n",
       "      <td>...</td>\n",
       "      <td>0157</td>\n",
       "      <td>0802</td>\n",
       "      <td>Cykelbane langs vej</td>\n",
       "      <td>Cykelsti</td>\n",
       "      <td>None</td>\n",
       "      <td>Befæstet</td>\n",
       "      <td>False</td>\n",
       "      <td>False</td>\n",
       "      <td>gdk60.1076437324</td>\n",
       "      <td>MULTILINESTRING Z ((724527.450 6182889.120 4.0...</td>\n",
       "    </tr>\n",
       "  </tbody>\n",
       "</table>\n",
       "<p>10 rows × 37 columns</p>\n",
       "</div>"
      ],
      "text/plain": [
       "                                         gml_id                     objectid  \\\n",
       "187717   id2eb8c8f9-fadf-4f7e-be56-69f3185d1064     108734517320151125151450   \n",
       "2150349  idb250160c-f174-4310-8109-56ead3e86450  108736828720220513205218715   \n",
       "1377868  idbb8161be-3c5c-4242-85bb-9d35511126c1     110924222720170817090011   \n",
       "1017416  id79ef2c7e-b9b1-4a7b-9c1d-0c52000c0093     111115917020171016090432   \n",
       "1390652  id20590f0f-ceff-43c1-94b0-f7591eb62365     108315837920151103102119   \n",
       "183504   id04850ef7-0540-49c8-94e6-0e9fe7bcac34     111053975520170920133641   \n",
       "821277   iddc9a640a-3669-422a-84b0-f59661134a92     110777382120170425142642   \n",
       "1561582  id3ca3ab41-08be-47a6-9378-00c5f2fe43aa     110135283220161018125513   \n",
       "1818093  id8598fdb9-a7c6-4e6c-adbc-f9becc2555e3     110514861620170130143012   \n",
       "156264   id8e3d1e14-41c7-4f51-98d9-cfc252f7ebe5     107643732420150715005401   \n",
       "\n",
       "         id_lokalid                   id_namespace tempid geometristatus  \\\n",
       "187717   1087345173  http://data.gov.dk/geodanmark   None        Endelig   \n",
       "2150349  1087368287  http://data.gov.dk/geodanmark   None        Endelig   \n",
       "1377868  1109242227  http://data.gov.dk/geodanmark   None        Endelig   \n",
       "1017416  1111159170  http://data.gov.dk/geodanmark   None        Endelig   \n",
       "1390652  1083158379  http://data.gov.dk/geodanmark   None        Endelig   \n",
       "183504   1110539755  http://data.gov.dk/geodanmark   None        Endelig   \n",
       "821277   1107773821  http://data.gov.dk/geodanmark   None        Endelig   \n",
       "1561582  1101352832  http://data.gov.dk/geodanmark   None        Endelig   \n",
       "1818093  1105148616  http://data.gov.dk/geodanmark   None        Endelig   \n",
       "156264   1076437324  http://data.gov.dk/geodanmark   None        Endelig   \n",
       "\n",
       "            virkningfra virkningtil virkningsaktoer     registreringfra  ...  \\\n",
       "187717   20151125151450        None             KMS      20151125151450  ...   \n",
       "2150349  20190409172557        None            COWI  20220513205218.715  ...   \n",
       "1377868  20170817090011        None            COWI      20170817090011  ...   \n",
       "1017416  20171016090432        None            COWI      20171016090432  ...   \n",
       "1390652  20151103102119        None             GST      20151103102119  ...   \n",
       "183504   20170920133641        None            COWI      20170920133641  ...   \n",
       "821277   20170425142642        None            COWI      20170425142642  ...   \n",
       "1561582  20161018125513        None            Cowi      20161018125513  ...   \n",
       "1818093  20170130143012        None            Cowi      20170130143012  ...   \n",
       "156264   20150715005401        None             GST      20150715005401  ...   \n",
       "\n",
       "        kommunekode vejkode          vejkategori trafikart niveau overflade  \\\n",
       "187717         0101    5988   Cykelsti langs vej  Cykelsti   None  Befæstet   \n",
       "2150349        0101    3332   Cykelsti langs vej  Cykelsti   None  Befæstet   \n",
       "1377868        0330    0123  Cykelbane langs vej  Cykelsti   None  Befæstet   \n",
       "1017416        0265    4816  Cykelbane langs vej  Cykelsti   None  Befæstet   \n",
       "1390652        0791    1208   Cykelsti langs vej  Cykelsti   None  Befæstet   \n",
       "183504         0253    3036  Cykelbane langs vej  Cykelsti   None  Befæstet   \n",
       "821277         0751    None   Cykelsti langs vej  Cykelsti   None  Befæstet   \n",
       "1561582        0787    9029   Cykelsti langs vej  Cykelsti   None  Befæstet   \n",
       "1818093        0851    6985   Cykelsti langs vej  Cykelsti   None  Befæstet   \n",
       "156264         0157    0802  Cykelbane langs vej  Cykelsti   None  Befæstet   \n",
       "\n",
       "        tilogfrakoersel rundkoersel             gmlid  \\\n",
       "187717            False       False  gdk60.1087345173   \n",
       "2150349           False       False  gdk60.1087368287   \n",
       "1377868           False       False  gdk60.1109242227   \n",
       "1017416           False       False  gdk60.1111159170   \n",
       "1390652           False       False  gdk60.1083158379   \n",
       "183504            False       False  gdk60.1110539755   \n",
       "821277            False       False  gdk60.1107773821   \n",
       "1561582           False       False  gdk60.1101352832   \n",
       "1818093           False       False  gdk60.1105148616   \n",
       "156264            False       False  gdk60.1076437324   \n",
       "\n",
       "                                                  geometry  \n",
       "187717   MULTILINESTRING Z ((723345.760 6179713.190 8.9...  \n",
       "2150349  MULTILINESTRING Z ((724638.990 6179454.420 9.8...  \n",
       "1377868  MULTILINESTRING Z ((641394.550 6143698.990 8.7...  \n",
       "1017416  MULTILINESTRING Z ((690805.660 6168958.840 44....  \n",
       "1390652  MULTILINESTRING Z ((546799.330 6262042.980 53....  \n",
       "183504   MULTILINESTRING Z ((703089.980 6163049.020 19....  \n",
       "821277   MULTILINESTRING Z ((573372.720 6227836.000 69....  \n",
       "1561582  MULTILINESTRING Z ((461514.080 6312587.510 7.6...  \n",
       "1818093  MULTILINESTRING Z ((558628.860 6324145.240 3.9...  \n",
       "156264   MULTILINESTRING Z ((724527.450 6182889.120 4.0...  \n",
       "\n",
       "[10 rows x 37 columns]"
      ]
     },
     "execution_count": 2,
     "metadata": {},
     "output_type": "execute_result"
    }
   ],
   "source": [
    "geodk = gpd.read_parquet(\"../../data/REFERENCE/dk/raw/geodk_bike.parquet\")\n",
    "geodk.sample(10)"
   ]
  },
  {
   "cell_type": "markdown",
   "metadata": {},
   "source": [
    "Our dataset contains the entire road network, including bicycle tracks and lanes. We are only interested in the dedicated cycling infrastructure and thus need to select a subset of the data.\n",
    "We also only want to include infrastructure that is completed or under construction.\n",
    "\n",
    "Some of the data might be outside of the study area we are interested in, but the data processing in notebook 01 will clip all data to the desired extent."
   ]
  },
  {
   "cell_type": "code",
   "execution_count": 3,
   "metadata": {},
   "outputs": [],
   "source": [
    "# Creating subset only with existing cycling infrastructure\n",
    "\n",
    "geodk_selection = geodk.loc[\n",
    "    (geodk.vejkategori.isin([\"Cykelsti langs vej\", \"Cykelbane langs vej\"]))\n",
    "    & (geodk.status.isin([\"Anlagt\", \"Under anlæg\"]))\n",
    "].copy()"
   ]
  },
  {
   "cell_type": "code",
   "execution_count": 4,
   "metadata": {},
   "outputs": [],
   "source": [
    "geodk_selection.explore()"
   ]
  },
  {
   "cell_type": "markdown",
   "metadata": {},
   "source": [
    "For all code to run without errors, our dataset can only contain LineString geometries. Let's check what we have:"
   ]
  },
  {
   "cell_type": "code",
   "execution_count": 5,
   "metadata": {},
   "outputs": [
    {
     "data": {
      "text/plain": [
       "array(['MultiLineString'], dtype=object)"
      ]
     },
     "execution_count": 5,
     "metadata": {},
     "output_type": "execute_result"
    }
   ],
   "source": [
    "geodk_selection.geom_type.unique()"
   ]
  },
  {
   "cell_type": "markdown",
   "metadata": {},
   "source": [
    "In this dataset, we only have MultiLineStrings. To fix this, we first try to merge the MultiLineStrings. \n",
    "If some of the MultiLinestrings are not connected (i.e. there are gaps in the lines), the aboves step will not be able to merge them. In that case we can instead 'explode' them."
   ]
  },
  {
   "cell_type": "code",
   "execution_count": 6,
   "metadata": {},
   "outputs": [
    {
     "data": {
      "text/plain": [
       "array(['LineString'], dtype=object)"
      ]
     },
     "execution_count": 6,
     "metadata": {},
     "output_type": "execute_result"
    }
   ],
   "source": [
    "geodk_linestrings = geodk_selection.copy()\n",
    "# Convert MultiLineStrings to LineString\n",
    "geodk_linestrings[\"geometry\"] = geodk_linestrings[\"geometry\"].apply(\n",
    "    lambda x: linemerge(x) if x.geom_type == \"MultiLineString\" else x\n",
    ")\n",
    "\n",
    "if (\n",
    "    len(geodk_linestrings.geom_type.unique()) > 1\n",
    "    or geodk_linestrings.geom_type.unique()[0] != \"LineString\"\n",
    "):\n",
    "\n",
    "    print(\"Exploding MultiLineStrings...\")\n",
    "    geodk_linestrings = geodk_selection.explode(ignore_index=True)\n",
    "\n",
    "assert len(geodk_linestrings.geom_type.unique()) == 1\n",
    "assert geodk_linestrings.geom_type.unique()[0] == \"LineString\"\n",
    "geodk_linestrings.geom_type.unique()"
   ]
  },
  {
   "cell_type": "markdown",
   "metadata": {},
   "source": [
    "For the code to work, the data need to be in a CRS recognized by GeoPandas, and to have that CRS defined. Let's check that we have a CRS defined:"
   ]
  },
  {
   "cell_type": "code",
   "execution_count": 7,
   "metadata": {},
   "outputs": [
    {
     "data": {
      "text/plain": [
       "<Derived Projected CRS: EPSG:25832>\n",
       "Name: ETRS89 / UTM zone 32N\n",
       "Axis Info [cartesian]:\n",
       "- E[east]: Easting (metre)\n",
       "- N[north]: Northing (metre)\n",
       "Area of Use:\n",
       "- name: Europe between 6°E and 12°E: Austria; Belgium; Denmark - onshore and offshore; Germany - onshore and offshore; Norway including - onshore and offshore; Spain - offshore.\n",
       "- bounds: (6.0, 38.76, 12.01, 84.33)\n",
       "Coordinate Operation:\n",
       "- name: UTM zone 32N\n",
       "- method: Transverse Mercator\n",
       "Datum: European Terrestrial Reference System 1989 ensemble\n",
       "- Ellipsoid: GRS 1980\n",
       "- Prime Meridian: Greenwich"
      ]
     },
     "execution_count": 7,
     "metadata": {},
     "output_type": "execute_result"
    }
   ],
   "source": [
    "geodk_linestrings.crs"
   ]
  },
  {
   "cell_type": "markdown",
   "metadata": {},
   "source": [
    "The analysis of data quality is based on the concept of a *network*. For the results to be accurate we need a dataset with nodes at intersections (i.e. where the lines defining the cycling infrastructure intersect).\n",
    "\n",
    "Use the folium plot below to check that you do have nodes at intersections.\n",
    "If not, this will have to be fixed - or it will be an aspect of low data quality that will become apparent in the analysis of data quality...\n",
    "\n",
    "Don't worry if there are more nodes than just those at intersections and start/end points - we will take care of that in the data loading notebook."
   ]
  },
  {
   "cell_type": "code",
   "execution_count": 8,
   "metadata": {},
   "outputs": [],
   "source": [
    "G = momepy.gdf_to_nx(\n",
    "    geodk_linestrings.to_crs(\"EPSG:25832\"), approach=\"primal\", directed=True\n",
    ")  # We reproject the network data to avoid warnings - final reprojection will happen later\n",
    "\n",
    "nodes, edges = momepy.nx_to_gdf(G)"
   ]
  },
  {
   "cell_type": "code",
   "execution_count": 9,
   "metadata": {},
   "outputs": [],
   "source": [
    "# Feature groups for OSM\n",
    "edges_folium = pf.make_edgefeaturegroup(\n",
    "    gdf=edges, mycolor=\"black\", myweight=2, nametag=\"edges\", show_edges=True\n",
    ")\n",
    "\n",
    "nodes_folim = pf.make_nodefeaturegroup(\n",
    "    gdf=nodes, mycolor=\"red\", mysize=2, nametag=\"nodes\", show_nodes=True\n",
    ")\n",
    "\n",
    "feature_groups = [edges_folium, nodes_folim]\n",
    "\n",
    "m = pf.make_foliumplot(\n",
    "    feature_groups=feature_groups,\n",
    "    layers_dict=folium_layers,\n",
    "    center_gdf=nodes,\n",
    "    center_crs=nodes.crs,\n",
    ")\n",
    "\n",
    "display(m)"
   ]
  },
  {
   "cell_type": "markdown",
   "metadata": {},
   "source": [
    "We don't technically need to drop any unnecessary columns, but let's avoid loading unnecessary data later on."
   ]
  },
  {
   "cell_type": "code",
   "execution_count": 10,
   "metadata": {},
   "outputs": [
    {
     "data": {
      "text/plain": [
       "Index(['gml_id', 'objectid', 'id_lokalid', 'id_namespace', 'tempid',\n",
       "       'geometristatus', 'virkningfra', 'virkningtil', 'virkningsaktoer',\n",
       "       'registreringfra', 'registreringtil', 'registreringsaktoer',\n",
       "       'forretningsomraade', 'forretningshaendelse', 'forretningsproces',\n",
       "       'status', 'registreringsspecifikation', 'dataansvar',\n",
       "       'plannoejagtighed', 'vertikalnoejagtighed', 'planstedfaestelsesmetode',\n",
       "       'vertikalstedfaestelsesmetode', 'kommentar', 'applikation',\n",
       "       'vejmidtetype', 'vejmyndighed', 'cvfadmnr', 'kommunekode', 'vejkode',\n",
       "       'vejkategori', 'trafikart', 'niveau', 'overflade', 'tilogfrakoersel',\n",
       "       'rundkoersel', 'gmlid', 'geometry'],\n",
       "      dtype='object')"
      ]
     },
     "execution_count": 10,
     "metadata": {},
     "output_type": "execute_result"
    }
   ],
   "source": [
    "geodk_linestrings.columns"
   ]
  },
  {
   "cell_type": "code",
   "execution_count": 11,
   "metadata": {},
   "outputs": [],
   "source": [
    "# Drop unnecessary columns\n",
    "\n",
    "geodk_linestrings = geodk_linestrings[[\"id_lokalid\", \"vejkategori\", \"geometry\"]]"
   ]
  },
  {
   "cell_type": "markdown",
   "metadata": {},
   "source": [
    "For consistency, we rename all column names to lower case letters:"
   ]
  },
  {
   "cell_type": "code",
   "execution_count": 12,
   "metadata": {},
   "outputs": [],
   "source": [
    "geodk_linestrings = gf.clean_col_names(geodk_linestrings)"
   ]
  },
  {
   "attachments": {},
   "cell_type": "markdown",
   "metadata": {},
   "source": [
    "For this dataset we assume of all features to be 'true' geometry mappings and one directional, so we can specify this in config file and do not have to add it to the data.\n",
    "\n",
    "The rest of the pre-processing, such as projecting to the chosen CRS, clipping the data to the study area etc. will happen in [notebook 2a](../REFERENCE/2a_initialize_reference.ipynb)."
   ]
  },
  {
   "cell_type": "markdown",
   "metadata": {},
   "source": [
    "**Final dataset**"
   ]
  },
  {
   "cell_type": "code",
   "execution_count": 13,
   "metadata": {},
   "outputs": [
    {
     "data": {
      "text/html": [
       "<div>\n",
       "<style scoped>\n",
       "    .dataframe tbody tr th:only-of-type {\n",
       "        vertical-align: middle;\n",
       "    }\n",
       "\n",
       "    .dataframe tbody tr th {\n",
       "        vertical-align: top;\n",
       "    }\n",
       "\n",
       "    .dataframe thead th {\n",
       "        text-align: right;\n",
       "    }\n",
       "</style>\n",
       "<table border=\"1\" class=\"dataframe\">\n",
       "  <thead>\n",
       "    <tr style=\"text-align: right;\">\n",
       "      <th></th>\n",
       "      <th>id_lokalid</th>\n",
       "      <th>vejkategori</th>\n",
       "      <th>geometry</th>\n",
       "    </tr>\n",
       "  </thead>\n",
       "  <tbody>\n",
       "    <tr>\n",
       "      <th>2279846</th>\n",
       "      <td>1112131687</td>\n",
       "      <td>Cykelsti langs vej</td>\n",
       "      <td>LINESTRING Z (670470.160 6176865.350 26.640, 6...</td>\n",
       "    </tr>\n",
       "    <tr>\n",
       "      <th>1862843</th>\n",
       "      <td>1067416190</td>\n",
       "      <td>Cykelbane langs vej</td>\n",
       "      <td>LINESTRING Z (599386.950 6108443.050 67.150, 5...</td>\n",
       "    </tr>\n",
       "    <tr>\n",
       "      <th>596539</th>\n",
       "      <td>1100615250</td>\n",
       "      <td>Cykelbane langs vej</td>\n",
       "      <td>LINESTRING Z (517731.680 6255916.420 18.190, 5...</td>\n",
       "    </tr>\n",
       "    <tr>\n",
       "      <th>766714</th>\n",
       "      <td>1222561493</td>\n",
       "      <td>Cykelbane langs vej</td>\n",
       "      <td>LINESTRING Z (508207.480 6199470.210 47.970, 5...</td>\n",
       "    </tr>\n",
       "    <tr>\n",
       "      <th>1489694</th>\n",
       "      <td>1081218937</td>\n",
       "      <td>Cykelbane langs vej</td>\n",
       "      <td>LINESTRING Z (709418.070 6183811.080 39.470, 7...</td>\n",
       "    </tr>\n",
       "    <tr>\n",
       "      <th>35472</th>\n",
       "      <td>1095950079</td>\n",
       "      <td>Cykelsti langs vej</td>\n",
       "      <td>LINESTRING Z (508780.960 6158284.990 65.440, 5...</td>\n",
       "    </tr>\n",
       "    <tr>\n",
       "      <th>156175</th>\n",
       "      <td>1076437088</td>\n",
       "      <td>Cykelsti langs vej</td>\n",
       "      <td>LINESTRING Z (724764.500 6186822.860 3.650, 72...</td>\n",
       "    </tr>\n",
       "    <tr>\n",
       "      <th>2285021</th>\n",
       "      <td>1215814889</td>\n",
       "      <td>Cykelbane langs vej</td>\n",
       "      <td>LINESTRING Z (585114.640 6139751.580 16.880, 5...</td>\n",
       "    </tr>\n",
       "    <tr>\n",
       "      <th>931188</th>\n",
       "      <td>1079714199</td>\n",
       "      <td>Cykelsti langs vej</td>\n",
       "      <td>LINESTRING Z (719516.620 6186136.890 22.910, 7...</td>\n",
       "    </tr>\n",
       "    <tr>\n",
       "      <th>1962024</th>\n",
       "      <td>1213798546</td>\n",
       "      <td>Cykelbane langs vej</td>\n",
       "      <td>LINESTRING Z (541898.550 6090856.050 34.600, 5...</td>\n",
       "    </tr>\n",
       "  </tbody>\n",
       "</table>\n",
       "</div>"
      ],
      "text/plain": [
       "         id_lokalid          vejkategori  \\\n",
       "2279846  1112131687   Cykelsti langs vej   \n",
       "1862843  1067416190  Cykelbane langs vej   \n",
       "596539   1100615250  Cykelbane langs vej   \n",
       "766714   1222561493  Cykelbane langs vej   \n",
       "1489694  1081218937  Cykelbane langs vej   \n",
       "35472    1095950079   Cykelsti langs vej   \n",
       "156175   1076437088   Cykelsti langs vej   \n",
       "2285021  1215814889  Cykelbane langs vej   \n",
       "931188   1079714199   Cykelsti langs vej   \n",
       "1962024  1213798546  Cykelbane langs vej   \n",
       "\n",
       "                                                  geometry  \n",
       "2279846  LINESTRING Z (670470.160 6176865.350 26.640, 6...  \n",
       "1862843  LINESTRING Z (599386.950 6108443.050 67.150, 5...  \n",
       "596539   LINESTRING Z (517731.680 6255916.420 18.190, 5...  \n",
       "766714   LINESTRING Z (508207.480 6199470.210 47.970, 5...  \n",
       "1489694  LINESTRING Z (709418.070 6183811.080 39.470, 7...  \n",
       "35472    LINESTRING Z (508780.960 6158284.990 65.440, 5...  \n",
       "156175   LINESTRING Z (724764.500 6186822.860 3.650, 72...  \n",
       "2285021  LINESTRING Z (585114.640 6139751.580 16.880, 5...  \n",
       "931188   LINESTRING Z (719516.620 6186136.890 22.910, 7...  \n",
       "1962024  LINESTRING Z (541898.550 6090856.050 34.600, 5...  "
      ]
     },
     "execution_count": 13,
     "metadata": {},
     "output_type": "execute_result"
    }
   ],
   "source": [
    "geodk_linestrings.sample(10)"
   ]
  },
  {
   "cell_type": "markdown",
   "metadata": {},
   "source": [
    "**Export dataset**"
   ]
  },
  {
   "cell_type": "code",
   "execution_count": 14,
   "metadata": {},
   "outputs": [],
   "source": [
    "geodk_linestrings.to_parquet(\n",
    "    \"../../data/reference/dk/processed/reference_data.parquet\"\n",
    ")\n",
    "\n"
   ]
  },
  {
   "attachments": {},
   "cell_type": "markdown",
   "metadata": {},
   "source": [
    "*Contains data from GeoDanmark (retrieved spring 2023)*\n",
    "*© SDFE (Styrelsen for Dataforsyning og Effektivisering og Danske kommuner)*\n",
    "\n",
    "*License: [GeoDanmark](https://www.geodanmark.dk/wp-content/uploads/2022/08/Vilkaar-for-brug-af-frie-geografiske-data_GeoDanmark-grunddata-august-2022.pdf)*"
   ]
  }
 ],
 "metadata": {
  "kernelspec": {
   "display_name": "bikedna",
   "language": "python",
   "name": "python3"
  },
  "language_info": {
   "codemirror_mode": {
    "name": "ipython",
    "version": 3
   },
   "file_extension": ".py",
   "mimetype": "text/x-python",
   "name": "python",
   "nbconvert_exporter": "python",
   "pygments_lexer": "ipython3",
   "version": "3.10.9"
  },
  "vscode": {
   "interpreter": {
    "hash": "25d89d047ff73a4f08e1f58df0505313a978ba3f16552d4fb4e98a48d36b765b"
   }
  }
 },
 "nbformat": 4,
 "nbformat_minor": 4
}
